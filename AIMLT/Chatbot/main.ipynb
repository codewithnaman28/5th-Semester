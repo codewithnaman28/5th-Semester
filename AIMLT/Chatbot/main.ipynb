{
 "cells": [
  {
   "cell_type": "markdown",
   "metadata": {},
   "source": [
    "# Chatbot\n",
    "\n",
    "A simple chatbot using bard API"
   ]
  },
  {
   "cell_type": "code",
   "execution_count": 2,
   "metadata": {},
   "outputs": [
    {
     "ename": "Exception",
     "evalue": "SNlM0e value not found. Double-check __Secure-1PSID value or pass it as token='xxxxx'.",
     "output_type": "error",
     "traceback": [
      "\u001b[0;31m---------------------------------------------------------------------------\u001b[0m",
      "\u001b[0;31mException\u001b[0m                                 Traceback (most recent call last)",
      "\u001b[1;32m/Users/namansoni/Documents/Sem-5/AIMLT/Chatbot/main.ipynb Cell 2\u001b[0m line \u001b[0;36m1\n\u001b[1;32m      <a href='vscode-notebook-cell:/Users/namansoni/Documents/Sem-5/AIMLT/Chatbot/main.ipynb#W1sZmlsZQ%3D%3D?line=4'>5</a>\u001b[0m os\u001b[39m.\u001b[39menviron[\n\u001b[1;32m      <a href='vscode-notebook-cell:/Users/namansoni/Documents/Sem-5/AIMLT/Chatbot/main.ipynb#W1sZmlsZQ%3D%3D?line=5'>6</a>\u001b[0m     \u001b[39m\"\u001b[39m\u001b[39m_BARD_API_KEY\u001b[39m\u001b[39m\"\u001b[39m\n\u001b[1;32m      <a href='vscode-notebook-cell:/Users/namansoni/Documents/Sem-5/AIMLT/Chatbot/main.ipynb#W1sZmlsZQ%3D%3D?line=6'>7</a>\u001b[0m ] \u001b[39m=\u001b[39m \u001b[39m\"\u001b[39m\u001b[39mcghUUavF3dO5bSp0Z7n5-mlxjMBBkP8ihe8Lku0XAT_I7wu9lyJ-zEgLPaSmyOiHUjROGQ.\u001b[39m\u001b[39m\"\u001b[39m\n\u001b[1;32m      <a href='vscode-notebook-cell:/Users/namansoni/Documents/Sem-5/AIMLT/Chatbot/main.ipynb#W1sZmlsZQ%3D%3D?line=8'>9</a>\u001b[0m input_text \u001b[39m=\u001b[39m \u001b[39m\"\u001b[39m\u001b[39mWho won the cricket world cup 2023?\u001b[39m\u001b[39m\"\u001b[39m\n\u001b[0;32m---> <a href='vscode-notebook-cell:/Users/namansoni/Documents/Sem-5/AIMLT/Chatbot/main.ipynb#W1sZmlsZQ%3D%3D?line=10'>11</a>\u001b[0m \u001b[39mprint\u001b[39m(Bard()\u001b[39m.\u001b[39mget_answer(input_text)[\u001b[39m\"\u001b[39m\u001b[39mcontent\u001b[39m\u001b[39m\"\u001b[39m])\n",
      "File \u001b[0;32m~/Documents/Sem-5/.venv/lib/python3.12/site-packages/bardapi/core.py:78\u001b[0m, in \u001b[0;36mBard.__init__\u001b[0;34m(self, token, timeout, proxies, session, conversation_id, google_translator_api_key, language, run_code, token_from_browser)\u001b[0m\n\u001b[1;32m     76\u001b[0m \u001b[39mself\u001b[39m\u001b[39m.\u001b[39mchoice_id \u001b[39m=\u001b[39m \u001b[39m\"\u001b[39m\u001b[39m\"\u001b[39m\n\u001b[1;32m     77\u001b[0m \u001b[39mself\u001b[39m\u001b[39m.\u001b[39msession \u001b[39m=\u001b[39m \u001b[39mself\u001b[39m\u001b[39m.\u001b[39m_get_session(session)\n\u001b[0;32m---> 78\u001b[0m \u001b[39mself\u001b[39m\u001b[39m.\u001b[39mSNlM0e \u001b[39m=\u001b[39m \u001b[39mself\u001b[39;49m\u001b[39m.\u001b[39;49m_get_snim0e()\n\u001b[1;32m     79\u001b[0m \u001b[39mself\u001b[39m\u001b[39m.\u001b[39mlanguage \u001b[39m=\u001b[39m language \u001b[39mor\u001b[39;00m os\u001b[39m.\u001b[39mgetenv(\u001b[39m\"\u001b[39m\u001b[39m_BARD_API_LANG\u001b[39m\u001b[39m\"\u001b[39m)\n\u001b[1;32m     80\u001b[0m \u001b[39mself\u001b[39m\u001b[39m.\u001b[39mrun_code \u001b[39m=\u001b[39m run_code\n",
      "File \u001b[0;32m~/Documents/Sem-5/.venv/lib/python3.12/site-packages/bardapi/core.py:154\u001b[0m, in \u001b[0;36mBard._get_snim0e\u001b[0;34m(self)\u001b[0m\n\u001b[1;32m    152\u001b[0m snim0e \u001b[39m=\u001b[39m re\u001b[39m.\u001b[39msearch(\u001b[39mr\u001b[39m\u001b[39m\"\u001b[39m\u001b[39mSNlM0e\u001b[39m\u001b[39m\\\"\u001b[39;00m\u001b[39m:\u001b[39m\u001b[39m\\\"\u001b[39;00m\u001b[39m(.*?)\u001b[39m\u001b[39m\\\"\u001b[39;00m\u001b[39m\"\u001b[39m, resp\u001b[39m.\u001b[39mtext)\n\u001b[1;32m    153\u001b[0m \u001b[39mif\u001b[39;00m \u001b[39mnot\u001b[39;00m snim0e:\n\u001b[0;32m--> 154\u001b[0m     \u001b[39mraise\u001b[39;00m \u001b[39mException\u001b[39;00m(\n\u001b[1;32m    155\u001b[0m         \u001b[39m\"\u001b[39m\u001b[39mSNlM0e value not found. Double-check __Secure-1PSID value or pass it as token=\u001b[39m\u001b[39m'\u001b[39m\u001b[39mxxxxx\u001b[39m\u001b[39m'\u001b[39m\u001b[39m.\u001b[39m\u001b[39m\"\u001b[39m\n\u001b[1;32m    156\u001b[0m     )\n\u001b[1;32m    157\u001b[0m \u001b[39mreturn\u001b[39;00m snim0e\u001b[39m.\u001b[39mgroup(\u001b[39m1\u001b[39m)\n",
      "\u001b[0;31mException\u001b[0m: SNlM0e value not found. Double-check __Secure-1PSID value or pass it as token='xxxxx'."
     ]
    }
   ],
   "source": [
    "from bardapi import Bard\n",
    "import os\n",
    "import time\n",
    "\n",
    "os.environ[\n",
    "    \"_BARD_API_KEY\"\n",
    "] = \"cghUUavF3dO5bSp0Z7n5-mlxjMBBkP8ihe8Lku0XAT_I7wu9lyJ-zEgLPaSmyOiHUjROGQ.\"\n",
    "\n",
    "input_text = \"Who won the cricket world cup 2023?\"\n",
    "\n",
    "print(Bard().get_answer(input_text)[\"content\"])"
   ]
  },
  {
   "cell_type": "code",
   "execution_count": 30,
   "metadata": {},
   "outputs": [
    {
     "ename": "Exception",
     "evalue": "SNlM0e value not found. Double-check __Secure-1PSID value or pass it as token='xxxxx'.",
     "output_type": "error",
     "traceback": [
      "\u001b[0;31m---------------------------------------------------------------------------\u001b[0m",
      "\u001b[0;31mException\u001b[0m                                 Traceback (most recent call last)",
      "\u001b[1;32m/Users/namansoni/Documents/Sem-5/AIMLT/Chatbot/main.ipynb Cell 3\u001b[0m line \u001b[0;36m7\n\u001b[1;32m      <a href='vscode-notebook-cell:/Users/namansoni/Documents/Sem-5/AIMLT/Chatbot/main.ipynb#W2sZmlsZQ%3D%3D?line=3'>4</a>\u001b[0m token \u001b[39m=\u001b[39m \u001b[39m\"\u001b[39m\u001b[39mcghUUavF3dO5bSp0Z7n5-mlxjMBBkP8ihe8Lku0XAT_I7wu9lyJ-zEgLPaSmyOiHUjROGQ.\u001b[39m\u001b[39m\"\u001b[39m\n\u001b[1;32m      <a href='vscode-notebook-cell:/Users/namansoni/Documents/Sem-5/AIMLT/Chatbot/main.ipynb#W2sZmlsZQ%3D%3D?line=5'>6</a>\u001b[0m \u001b[39m# Initialize Bard API\u001b[39;00m\n\u001b[0;32m----> <a href='vscode-notebook-cell:/Users/namansoni/Documents/Sem-5/AIMLT/Chatbot/main.ipynb#W2sZmlsZQ%3D%3D?line=6'>7</a>\u001b[0m bard \u001b[39m=\u001b[39m Bard(token\u001b[39m=\u001b[39;49mtoken)\n\u001b[1;32m      <a href='vscode-notebook-cell:/Users/namansoni/Documents/Sem-5/AIMLT/Chatbot/main.ipynb#W2sZmlsZQ%3D%3D?line=8'>9</a>\u001b[0m \u001b[39m# Get answer\u001b[39;00m\n\u001b[1;32m     <a href='vscode-notebook-cell:/Users/namansoni/Documents/Sem-5/AIMLT/Chatbot/main.ipynb#W2sZmlsZQ%3D%3D?line=9'>10</a>\u001b[0m input_text \u001b[39m=\u001b[39m \u001b[39m\"\u001b[39m\u001b[39mWho won the cricket world cup 2023?\u001b[39m\u001b[39m\"\u001b[39m\n",
      "File \u001b[0;32m~/Documents/Sem-5/.venv/lib/python3.12/site-packages/bardapi/core.py:78\u001b[0m, in \u001b[0;36mBard.__init__\u001b[0;34m(self, token, timeout, proxies, session, conversation_id, google_translator_api_key, language, run_code, token_from_browser)\u001b[0m\n\u001b[1;32m     76\u001b[0m \u001b[39mself\u001b[39m\u001b[39m.\u001b[39mchoice_id \u001b[39m=\u001b[39m \u001b[39m\"\u001b[39m\u001b[39m\"\u001b[39m\n\u001b[1;32m     77\u001b[0m \u001b[39mself\u001b[39m\u001b[39m.\u001b[39msession \u001b[39m=\u001b[39m \u001b[39mself\u001b[39m\u001b[39m.\u001b[39m_get_session(session)\n\u001b[0;32m---> 78\u001b[0m \u001b[39mself\u001b[39m\u001b[39m.\u001b[39mSNlM0e \u001b[39m=\u001b[39m \u001b[39mself\u001b[39;49m\u001b[39m.\u001b[39;49m_get_snim0e()\n\u001b[1;32m     79\u001b[0m \u001b[39mself\u001b[39m\u001b[39m.\u001b[39mlanguage \u001b[39m=\u001b[39m language \u001b[39mor\u001b[39;00m os\u001b[39m.\u001b[39mgetenv(\u001b[39m\"\u001b[39m\u001b[39m_BARD_API_LANG\u001b[39m\u001b[39m\"\u001b[39m)\n\u001b[1;32m     80\u001b[0m \u001b[39mself\u001b[39m\u001b[39m.\u001b[39mrun_code \u001b[39m=\u001b[39m run_code\n",
      "File \u001b[0;32m~/Documents/Sem-5/.venv/lib/python3.12/site-packages/bardapi/core.py:154\u001b[0m, in \u001b[0;36mBard._get_snim0e\u001b[0;34m(self)\u001b[0m\n\u001b[1;32m    152\u001b[0m snim0e \u001b[39m=\u001b[39m re\u001b[39m.\u001b[39msearch(\u001b[39mr\u001b[39m\u001b[39m\"\u001b[39m\u001b[39mSNlM0e\u001b[39m\u001b[39m\\\"\u001b[39;00m\u001b[39m:\u001b[39m\u001b[39m\\\"\u001b[39;00m\u001b[39m(.*?)\u001b[39m\u001b[39m\\\"\u001b[39;00m\u001b[39m\"\u001b[39m, resp\u001b[39m.\u001b[39mtext)\n\u001b[1;32m    153\u001b[0m \u001b[39mif\u001b[39;00m \u001b[39mnot\u001b[39;00m snim0e:\n\u001b[0;32m--> 154\u001b[0m     \u001b[39mraise\u001b[39;00m \u001b[39mException\u001b[39;00m(\n\u001b[1;32m    155\u001b[0m         \u001b[39m\"\u001b[39m\u001b[39mSNlM0e value not found. Double-check __Secure-1PSID value or pass it as token=\u001b[39m\u001b[39m'\u001b[39m\u001b[39mxxxxx\u001b[39m\u001b[39m'\u001b[39m\u001b[39m.\u001b[39m\u001b[39m\"\u001b[39m\n\u001b[1;32m    156\u001b[0m     )\n\u001b[1;32m    157\u001b[0m \u001b[39mreturn\u001b[39;00m snim0e\u001b[39m.\u001b[39mgroup(\u001b[39m1\u001b[39m)\n",
      "\u001b[0;31mException\u001b[0m: SNlM0e value not found. Double-check __Secure-1PSID value or pass it as token='xxxxx'."
     ]
    }
   ],
   "source": [
    "from bardapi import Bard\n",
    "\n",
    "# Replace 'your_token_here' with the actual token\n",
    "token = \"cghUUavF3dO5bSp0Z7n5-mlxjMBBkP8ihe8Lku0XAT_I7wu9lyJ-zEgLPaSmyOiHUjROGQ.\"\n",
    "\n",
    "# Initialize Bard API\n",
    "bard = Bard(token=token)\n",
    "\n",
    "# Get answer\n",
    "input_text = \"Who won the cricket world cup 2023?\"\n",
    "answer = bard.get_answer(input_text)\n",
    "\n",
    "# Print the content of the answer\n",
    "print(answer[\"content\"])"
   ]
  }
 ],
 "metadata": {
  "kernelspec": {
   "display_name": ".venv",
   "language": "python",
   "name": "python3"
  },
  "language_info": {
   "codemirror_mode": {
    "name": "ipython",
    "version": 3
   },
   "file_extension": ".py",
   "mimetype": "text/x-python",
   "name": "python",
   "nbconvert_exporter": "python",
   "pygments_lexer": "ipython3",
   "version": "3.12.0"
  }
 },
 "nbformat": 4,
 "nbformat_minor": 2
}
